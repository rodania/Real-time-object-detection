{
 "cells": [
  {
   "cell_type": "code",
   "execution_count": 1,
   "metadata": {},
   "outputs": [],
   "source": [
    "import numpy as np\n",
    "import cv2"
   ]
  },
  {
   "cell_type": "code",
   "execution_count": 7,
   "metadata": {},
   "outputs": [],
   "source": [
    "# load MobileNet model\n",
    "proto = 'object-detection-deep-learning/MobileNetSSD_deploy.prototxt.txt'\n",
    "model = 'object-detection-deep-learning/MobileNetSSD_deploy.caffemodel'\n",
    "\n",
    "# load SSD model\n",
    "net = cv2.dnn.readNetFromCaffe(proto, model)"
   ]
  },
  {
   "cell_type": "code",
   "execution_count": 3,
   "metadata": {},
   "outputs": [],
   "source": [
    "# define MobileNet classes\n",
    "CLASSES = [\"background\", \"aeroplane\", \"bicycle\", \"bird\", \"boat\",\n",
    "           \"bottle\", \"bus\", \"car\", \"cat\", \"chair\", \"cow\", \"diningtable\",\n",
    "           \"dog\", \"horse\", \"motorbike\", \"person\", \"pottedplant\", \"sheep\",\n",
    "           \"sofa\", \"train\", \"tvmonitor\"]"
   ]
  },
  {
   "cell_type": "code",
   "execution_count": 4,
   "metadata": {},
   "outputs": [],
   "source": [
    "selected_class = set([\"person\"])\n",
    "COLORS = np.random.uniform(0, 255, size=(len(CLASSES), 3))"
   ]
  },
  {
   "cell_type": "code",
   "execution_count": 5,
   "metadata": {},
   "outputs": [],
   "source": [
    "# set a minimum confidence to consider a valid detection\n",
    "confidence = 0.75"
   ]
  },
  {
   "cell_type": "code",
   "execution_count": 16,
   "metadata": {},
   "outputs": [],
   "source": [
    "# Load video\n",
    "video = cv2.VideoCapture('video.mp4')\n",
    "\n",
    "# loop over the frames from the video stream\n",
    "while video.isOpened():\n",
    "    ret, frame = video.read()\n",
    "    \n",
    "    if ret == True:\n",
    "        # resize frame\n",
    "        frame = cv2.resize(frame, (400, 360))\n",
    "\n",
    "        # get frame dimensions\n",
    "        (h, w) = frame.shape[:2]\n",
    "\n",
    "        # create a blob\n",
    "        blob = cv2.dnn.blobFromImage(cv2.resize(frame, (300, 300)), \n",
    "                                     0.007843, (300, 300), 127.5)\n",
    "\n",
    "        # pass the blob through the network to obtain detections\n",
    "        net.setInput(blob)\n",
    "        detections = net.forward()\n",
    "\n",
    "        # loop over the detections\n",
    "        for i in np.arange(0, detections.shape[2]):\n",
    "            # get the confidence of the prediction\n",
    "            conf = detections[0, 0, i, 2]\n",
    "\n",
    "            # only consider detection bigger than the threshold confidence\n",
    "            if conf > confidence:\n",
    "                # get the index of the class label from the detections\n",
    "                idx = int(detections[0, 0, i, 1])\n",
    "\n",
    "                # detect only the selected_class\n",
    "                if CLASSES[idx] in selected_class:\n",
    "\n",
    "                    # compute the coordinates of the bounding box for the object\n",
    "                    box = detections[0, 0, i, 3:7] * np.array([w, h, w, h])\n",
    "                    (startX, startY, endX, endY) = box.astype(\"int\")\n",
    "\n",
    "                    # draw the bounding box on the frame\n",
    "                    label = \"{}: {:.2f}%\".format(CLASSES[idx],\n",
    "                        confidence * 100)\n",
    "                    cv2.rectangle(frame, (startX, startY), (endX, endY),\n",
    "                        COLORS[idx], 2)\n",
    "                    y = startY - 15 if startY - 15 > 15 else startY + 15\n",
    "                    cv2.putText(frame, label, (startX, y),\n",
    "                        cv2.FONT_HERSHEY_SIMPLEX, 0.5, COLORS[idx], 2)\n",
    "\n",
    "                # ignore other classes\n",
    "                else:\n",
    "                    continue\n",
    "\n",
    "        # show the output frame\n",
    "        cv2.imshow('Video', frame)\n",
    "        if cv2.waitKey(1) & 0xFF == ord('q'):\n",
    "            break\n",
    "            cv2.destroyWindow('Video')\n",
    "\n",
    "        \n",
    "    else:\n",
    "        cv2.destroyAllWindows()\n",
    "        break"
   ]
  }
 ],
 "metadata": {
  "kernelspec": {
   "display_name": "CV",
   "language": "python",
   "name": "cv"
  },
  "language_info": {
   "codemirror_mode": {
    "name": "ipython",
    "version": 3
   },
   "file_extension": ".py",
   "mimetype": "text/x-python",
   "name": "python",
   "nbconvert_exporter": "python",
   "pygments_lexer": "ipython3",
   "version": "3.7.8"
  }
 },
 "nbformat": 4,
 "nbformat_minor": 4
}
